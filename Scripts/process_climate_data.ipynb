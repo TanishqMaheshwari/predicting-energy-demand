{
 "cells": [
  {
   "cell_type": "code",
   "execution_count": null,
   "metadata": {},
   "outputs": [],
   "source": [
    "def load_climate_data():\n",
    "    \"\"\"Load and combine climate data from different regions.\"\"\"\n",
    "    climate_files = glob.glob('../ClimateData/*Climate.csv')\n",
    "    dfs = []\n",
    "    \n",
    "    for file in climate_files:\n",
    "        region = os.path.basename(file).split('Climate')[0]\n",
    "        df = pd.read_csv(file)\n",
    "        df['region'] = region\n",
    "        dfs.append(df)\n",
    "    \n",
    "    climate_df = pd.concat(dfs, ignore_index=True)\n",
    "    climate_df['datetime'] = pd.to_datetime(climate_df['datetime'])\n",
    "    \n",
    "    return climate_df"
   ]
  }
 ],
 "metadata": {
  "language_info": {
   "name": "python"
  }
 },
 "nbformat": 4,
 "nbformat_minor": 2
}
